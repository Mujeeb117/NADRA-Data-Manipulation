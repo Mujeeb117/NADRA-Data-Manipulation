{
 "cells": [
  {
   "cell_type": "code",
   "execution_count": 1,
   "metadata": {
    "id": "QOepuiVEQmVL"
   },
   "outputs": [],
   "source": [
    "#import the required libraries\n",
    "import numpy as np"
   ]
  },
  {
   "cell_type": "markdown",
   "metadata": {
    "id": "XJJVjthYIz6w"
   },
   "source": [
    "# Step 1 : Read the Data!"
   ]
  },
  {
   "cell_type": "code",
   "execution_count": null,
   "metadata": {
    "id": "7xcB2zo-O0t-"
   },
   "outputs": [],
   "source": [
    "#give path of the source-file and store that path in a variable named census\n",
    "census = 'makeSenseOfCensus.csv'"
   ]
  },
  {
   "cell_type": "markdown",
   "metadata": {
    "id": "OiSJcx6GLcWT"
   },
   "source": [
    "# Loading the data"
   ]
  },
  {
   "cell_type": "markdown",
   "metadata": {
    "id": "VxJZY3U1nsPN"
   },
   "source": [
    "You have studied getfromtext in Numpy Classes, now is the time to put it into action :) Below is the half completed code, you have to substitute values for delimiter and skip_header in it for hte data to be properly read into a Data array. The output of the array has been shared with you guys followed by the code block"
   ]
  },
  {
   "cell_type": "code",
   "execution_count": null,
   "metadata": {
    "colab": {
     "base_uri": "https://localhost:8080/"
    },
    "id": "Fjx-kQkxQD7q",
    "outputId": "51e5d50a-ff99-4885-9eef-fbf9efbfad43"
   },
   "outputs": [
    {
     "name": "stdout",
     "output_type": "stream",
     "text": [
      " census  [[39. 13.  4. ...  0. 40.  0.]\n",
      " [50. 13.  4. ...  0. 13.  0.]\n",
      " [38.  9.  4. ...  0. 40.  0.]\n",
      " ...\n",
      " [48. 13.  4. ...  0. 58.  1.]\n",
      " [40. 10.  4. ...  0. 40.  0.]\n",
      " [39. 13.  4. ...  0. 50.  1.]]\n"
     ]
    }
   ],
   "source": [
    "data = np.genfromtxt(census, delimiter=',', skip_header=1)\n",
    "print(\" census \", data)"
   ]
  },
  {
   "cell_type": "markdown",
   "metadata": {
    "id": "lLoQJxpdOCfA"
   },
   "source": [
    "# Printing the type of data"
   ]
  },
  {
   "cell_type": "code",
   "execution_count": null,
   "metadata": {
    "colab": {
     "base_uri": "https://localhost:8080/"
    },
    "id": "xkPasCIhQ1qC",
    "outputId": "cf8aa853-e70b-4f50-990e-b7318177b0df"
   },
   "outputs": [
    {
     "name": "stdout",
     "output_type": "stream",
     "text": [
      "<class 'numpy.ndarray'>\n"
     ]
    }
   ],
   "source": [
    "#print the type of data\n",
    "print(type(data))"
   ]
  },
  {
   "cell_type": "markdown",
   "metadata": {
    "id": "QTSTCc7jVppG"
   },
   "source": [
    "# Step 2 : Append the Data"
   ]
  },
  {
   "cell_type": "markdown",
   "metadata": {
    "id": "-gz1eP4sfRpc"
   },
   "source": [
    "A new record [[50,9,4,1,0,0,40,0]] has been given to you. You are supposed to append this new record into the data using np.concatenate()"
   ]
  },
  {
   "cell_type": "code",
   "execution_count": null,
   "metadata": {
    "id": "jokdR-EtS1dz"
   },
   "outputs": [],
   "source": [
    "new_record = [[50,9,4,1,0,0,40,0]]"
   ]
  },
  {
   "cell_type": "markdown",
   "metadata": {
    "id": "qVKX1_leVwqh"
   },
   "source": [
    "## Append 'new_record' (given) to 'data' using \"np.concatenate()\""
   ]
  },
  {
   "cell_type": "code",
   "execution_count": null,
   "metadata": {
    "colab": {
     "base_uri": "https://localhost:8080/"
    },
    "id": "V38I3c5rTJPQ",
    "outputId": "49d6492a-acf4-41aa-f3db-3a65b50ead7c"
   },
   "outputs": [
    {
     "data": {
      "text/plain": [
       "array([[39., 13.,  4., ...,  0., 40.,  0.],\n",
       "       [50., 13.,  4., ...,  0., 13.,  0.],\n",
       "       [38.,  9.,  4., ...,  0., 40.,  0.],\n",
       "       ...,\n",
       "       [40., 10.,  4., ...,  0., 40.,  0.],\n",
       "       [39., 13.,  4., ...,  0., 50.,  1.],\n",
       "       [50.,  9.,  4., ...,  0., 40.,  0.]])"
      ]
     },
     "execution_count": 6,
     "metadata": {},
     "output_type": "execute_result"
    }
   ],
   "source": [
    "np.concatenate((data,new_record))"
   ]
  },
  {
   "cell_type": "markdown",
   "metadata": {
    "id": "i_5WAJWYWHpL"
   },
   "source": [
    "# Step 3 : Check if it's a young country or old country"
   ]
  },
  {
   "cell_type": "markdown",
   "metadata": {
    "id": "_CqLiA9OWQPm"
   },
   "source": [
    " Create a new array called 'age' by taking only age column(age is the column with index 0) of 'census' array."
   ]
  },
  {
   "cell_type": "code",
   "execution_count": null,
   "metadata": {
    "id": "u-v0CJlJf8XA"
   },
   "outputs": [],
   "source": [
    "age=np.array(data[:,0])"
   ]
  },
  {
   "cell_type": "markdown",
   "metadata": {
    "id": "_IyNXVKqWpPS"
   },
   "source": [
    "Find the max age and store it in a variable called 'max_age'.\n",
    "\n"
   ]
  },
  {
   "cell_type": "code",
   "execution_count": null,
   "metadata": {
    "colab": {
     "base_uri": "https://localhost:8080/"
    },
    "id": "tczhOTFif33u",
    "outputId": "96023da4-45ae-45ca-d7b1-66458c3c1a49"
   },
   "outputs": [
    {
     "name": "stdout",
     "output_type": "stream",
     "text": [
      "90.0\n"
     ]
    }
   ],
   "source": [
    "#print the max_age\n",
    "max_age=np.max(age)\n",
    "print(max_age)"
   ]
  },
  {
   "cell_type": "markdown",
   "metadata": {
    "id": "ywrTp3KTWu9z"
   },
   "source": [
    "Find the min age and store it in a variable called 'min_age'."
   ]
  },
  {
   "cell_type": "code",
   "execution_count": null,
   "metadata": {
    "colab": {
     "base_uri": "https://localhost:8080/"
    },
    "id": "QJ1VfCH7f0RG",
    "outputId": "09d6b6fb-d7c7-40e3-da95-a4ae26c6f6ae"
   },
   "outputs": [
    {
     "name": "stdout",
     "output_type": "stream",
     "text": [
      "17.0\n"
     ]
    }
   ],
   "source": [
    "#print the min_age\n",
    "min_age=np.min(age)\n",
    "print(min_age)"
   ]
  },
  {
   "cell_type": "markdown",
   "metadata": {
    "id": "k6TqZMYQd8w1"
   },
   "source": [
    "Find the mean of the age and store it in a variable called 'age_mean'."
   ]
  },
  {
   "cell_type": "code",
   "execution_count": null,
   "metadata": {
    "colab": {
     "base_uri": "https://localhost:8080/"
    },
    "id": "7dTC5eaIXs__",
    "outputId": "27fcf5ad-9bc6-4333-edaa-065c6d6305bd"
   },
   "outputs": [
    {
     "name": "stdout",
     "output_type": "stream",
     "text": [
      "38.051\n"
     ]
    }
   ],
   "source": [
    "#print the age_mean\n",
    "age_mean=np.mean(age)\n",
    "print(age_mean)"
   ]
  },
  {
   "cell_type": "markdown",
   "metadata": {
    "id": "GEDv3kfSeF9p"
   },
   "source": [
    "Find the standard deviation of the age and store it in a variable called 'age_std'"
   ]
  },
  {
   "cell_type": "code",
   "execution_count": null,
   "metadata": {
    "colab": {
     "base_uri": "https://localhost:8080/"
    },
    "id": "SF33E4XbX8Yi",
    "outputId": "95f7ddd2-eca2-4dc3-8892-2ffe7f0ee924"
   },
   "outputs": [
    {
     "name": "stdout",
     "output_type": "stream",
     "text": [
      "13.342803266180612\n"
     ]
    }
   ],
   "source": [
    "#print the age_std\n",
    "age_std=np.std(age)\n",
    "print(age_std)"
   ]
  },
  {
   "cell_type": "markdown",
   "metadata": {
    "id": "zfJWcybQecKB"
   },
   "source": [
    "# Step 4: Let's check the country's race distribution to identify the minorities"
   ]
  },
  {
   "cell_type": "markdown",
   "metadata": {
    "id": "SrvNIFGvef4r"
   },
   "source": [
    "Create four different arrays by subsetting 'census' array by Race column(Race is the column with index 2) and save them in 'race_0','race_1', 'race_2', 'race_3' and 'race_4' respectively(Meaning: Store the array where 'race'column has value 0 in 'race_0', so on and so forth)"
   ]
  },
  {
   "cell_type": "code",
   "execution_count": null,
   "metadata": {
    "id": "2iaIx6n6YHPh"
   },
   "outputs": [],
   "source": [
    "race_0=data[data[:,2]==0]\n",
    "race_1=data[data[:,2]==1]\n",
    "race_2=data[data[:,2]==2]\n",
    "race_3=data[data[:,2]==3]\n",
    "race_4=data[data[:,2]==4]"
   ]
  },
  {
   "cell_type": "code",
   "execution_count": null,
   "metadata": {
    "colab": {
     "base_uri": "https://localhost:8080/"
    },
    "id": "OEz-yzfrYxFC",
    "outputId": "d677a985-a481-4590-913d-0ca204d1864d"
   },
   "outputs": [
    {
     "data": {
      "text/plain": [
       "847"
      ]
     },
     "execution_count": 14,
     "metadata": {},
     "output_type": "execute_result"
    }
   ],
   "source": [
    "len(race_0)\n",
    "len(race_1)\n",
    "len(race_2)\n",
    "len(race_3)\n",
    "len(race_4)"
   ]
  },
  {
   "cell_type": "markdown",
   "metadata": {
    "id": "thg4wOEQeo1x"
   },
   "source": [
    "Store the length of the above created arrays in 'len_0', 'len_1','len_2', 'len_3' and 'len_4' respectively"
   ]
  },
  {
   "cell_type": "code",
   "execution_count": null,
   "metadata": {
    "colab": {
     "base_uri": "https://localhost:8080/"
    },
    "id": "6Nbz3CBkZHLY",
    "outputId": "de476f46-f235-4d62-891d-ff99ec99a493"
   },
   "outputs": [
    {
     "data": {
      "text/plain": [
       "10"
      ]
     },
     "execution_count": 15,
     "metadata": {},
     "output_type": "execute_result"
    }
   ],
   "source": [
    "#len_0\n",
    "len(race_0)"
   ]
  },
  {
   "cell_type": "code",
   "execution_count": null,
   "metadata": {
    "colab": {
     "base_uri": "https://localhost:8080/"
    },
    "id": "Zm0CnpfHaWQ7",
    "outputId": "7afd42cb-993a-4381-c924-7ef538de1c13"
   },
   "outputs": [
    {
     "data": {
      "text/plain": [
       "27"
      ]
     },
     "execution_count": 16,
     "metadata": {},
     "output_type": "execute_result"
    }
   ],
   "source": [
    "#len_1\n",
    "len(race_1)"
   ]
  },
  {
   "cell_type": "code",
   "execution_count": null,
   "metadata": {
    "colab": {
     "base_uri": "https://localhost:8080/"
    },
    "id": "BmTApcJTab3j",
    "outputId": "3245d0b2-28ae-4727-99ce-8c57806e7ac0"
   },
   "outputs": [
    {
     "data": {
      "text/plain": [
       "110"
      ]
     },
     "execution_count": 17,
     "metadata": {},
     "output_type": "execute_result"
    }
   ],
   "source": [
    "#len_2\n",
    "len(race_2)"
   ]
  },
  {
   "cell_type": "code",
   "execution_count": null,
   "metadata": {
    "colab": {
     "base_uri": "https://localhost:8080/"
    },
    "id": "O-SEHnv9afoQ",
    "outputId": "956e89a1-7606-46e1-a1af-b05c366cc0aa"
   },
   "outputs": [
    {
     "data": {
      "text/plain": [
       "6"
      ]
     },
     "execution_count": 18,
     "metadata": {},
     "output_type": "execute_result"
    }
   ],
   "source": [
    "#len_3\n",
    "len(race_3)"
   ]
  },
  {
   "cell_type": "code",
   "execution_count": null,
   "metadata": {
    "colab": {
     "base_uri": "https://localhost:8080/"
    },
    "id": "HksygZJFaogo",
    "outputId": "3327dead-9722-4e54-ad47-9da6d5a8da37"
   },
   "outputs": [
    {
     "data": {
      "text/plain": [
       "847"
      ]
     },
     "execution_count": 19,
     "metadata": {},
     "output_type": "execute_result"
    }
   ],
   "source": [
    "#len_4\n",
    "len(race_4)"
   ]
  },
  {
   "cell_type": "markdown",
   "metadata": {
    "id": "p57jTibJezYj"
   },
   "source": [
    "Find out which is the race with the minimum no. of citizens"
   ]
  },
  {
   "cell_type": "code",
   "execution_count": null,
   "metadata": {
    "colab": {
     "base_uri": "https://localhost:8080/"
    },
    "id": "axqxJHRBdMQL",
    "outputId": "4c52b2ef-6054-479c-a8b0-03bc19d0ffc9"
   },
   "outputs": [
    {
     "data": {
      "text/plain": [
       "0.0"
      ]
     },
     "execution_count": 20,
     "metadata": {},
     "output_type": "execute_result"
    }
   ],
   "source": [
    "np.min(race_0)"
   ]
  },
  {
   "cell_type": "code",
   "execution_count": null,
   "metadata": {
    "colab": {
     "base_uri": "https://localhost:8080/"
    },
    "id": "AobG9-Jfnagf",
    "outputId": "94d64f56-3765-4af5-8989-f9d66c8a1221"
   },
   "outputs": [
    {
     "data": {
      "text/plain": [
       "0.0"
      ]
     },
     "execution_count": 21,
     "metadata": {},
     "output_type": "execute_result"
    }
   ],
   "source": [
    "np.min(race_1)"
   ]
  },
  {
   "cell_type": "code",
   "execution_count": null,
   "metadata": {
    "colab": {
     "base_uri": "https://localhost:8080/"
    },
    "id": "AGXZcssOnauh",
    "outputId": "c49ce7c5-f18e-416e-ac2e-420dc031ed5a"
   },
   "outputs": [
    {
     "data": {
      "text/plain": [
       "0.0"
      ]
     },
     "execution_count": 22,
     "metadata": {},
     "output_type": "execute_result"
    }
   ],
   "source": [
    "np.min(race_2)"
   ]
  },
  {
   "cell_type": "code",
   "execution_count": null,
   "metadata": {
    "colab": {
     "base_uri": "https://localhost:8080/"
    },
    "id": "NLqcqh7fnaxg",
    "outputId": "26f9e987-e377-4ad3-9962-3d8621a29cee"
   },
   "outputs": [
    {
     "data": {
      "text/plain": [
       "0.0"
      ]
     },
     "execution_count": 23,
     "metadata": {},
     "output_type": "execute_result"
    }
   ],
   "source": [
    "np.min(race_3)"
   ]
  },
  {
   "cell_type": "code",
   "execution_count": null,
   "metadata": {
    "colab": {
     "base_uri": "https://localhost:8080/"
    },
    "id": "JFfS4WTYna77",
    "outputId": "cc36b080-0f0e-4ad7-bf04-3557bd4f4e1a"
   },
   "outputs": [
    {
     "data": {
      "text/plain": [
       "0.0"
      ]
     },
     "execution_count": 24,
     "metadata": {},
     "output_type": "execute_result"
    }
   ],
   "source": [
    "np.min(race_4)"
   ]
  },
  {
   "cell_type": "markdown",
   "metadata": {
    "id": "yJVgGJLgfJcV"
   },
   "source": [
    "Find out which is the race with the minimum no. of citizens"
   ]
  },
  {
   "cell_type": "code",
   "execution_count": null,
   "metadata": {
    "colab": {
     "base_uri": "https://localhost:8080/"
    },
    "id": "LnvFjvidgdzb",
    "outputId": "92f21811-8593-4c19-ca95-091b774bf8f4"
   },
   "outputs": [
    {
     "data": {
      "text/plain": [
       "0.0"
      ]
     },
     "execution_count": 37,
     "metadata": {},
     "output_type": "execute_result"
    }
   ],
   "source": [
    "np.min(race_0)"
   ]
  },
  {
   "cell_type": "markdown",
   "metadata": {
    "id": "OJmzGHoZfSHv"
   },
   "source": [
    "Store the number associated with the minority race in a variable called 'minority_race'(For eg: if \"len(race_5)\" is the minimum, store 5 in 'minority_race' because that is the index of the race having the least no. of citizens )"
   ]
  },
  {
   "cell_type": "code",
   "execution_count": null,
   "metadata": {
    "colab": {
     "base_uri": "https://localhost:8080/"
    },
    "id": "xi96yzv9gmar",
    "outputId": "66ccdff2-3881-4e9b-aa46-5135d6d088df"
   },
   "outputs": [
    {
     "name": "stdout",
     "output_type": "stream",
     "text": [
      "0.0\n"
     ]
    }
   ],
   "source": [
    "minority_race=np.min(race_0)\n",
    "print(minority_race)"
   ]
  },
  {
   "cell_type": "markdown",
   "metadata": {
    "id": "jrg7qCPZhwnu"
   },
   "source": [
    "Store the number associated with the minority race in a variable called 'minority_race'(For eg: if \"len(race_5)\" is the minimum, store 5 in 'minority_race' because that is the index of the race having the least no. of citizens )"
   ]
  },
  {
   "cell_type": "code",
   "execution_count": null,
   "metadata": {
    "id": "A3IPB6qMgocF"
   },
   "outputs": [],
   "source": []
  },
  {
   "cell_type": "markdown",
   "metadata": {
    "id": "E1Rwgqxf9F9V"
   },
   "source": [
    "# Step 5: As per govt. records citizens above 60 should not work more than 25 hours a week. Let us check if the policy is in place"
   ]
  },
  {
   "cell_type": "markdown",
   "metadata": {
    "id": "XT4Jy_Wn9Vww"
   },
   "source": [
    "a.Create a new subset array called 'senior_citizens' by filtering 'census' according to age>60 (age is the column with index 0)"
   ]
  },
  {
   "cell_type": "markdown",
   "metadata": {
    "id": "6AEHuxcS-uGh"
   },
   "source": [
    "[Row,Columns]  :"
   ]
  },
  {
   "cell_type": "code",
   "execution_count": null,
   "metadata": {
    "id": "oX6E5VZv9Z4j"
   },
   "outputs": [],
   "source": [
    "#from age column, filter out age data > 60\n",
    "np.array(data[:,0])\n",
    "senior_citizens=data[data[:,0]>60]"
   ]
  },
  {
   "cell_type": "markdown",
   "metadata": {
    "id": "mDbsg8N0_K8b"
   },
   "source": [
    "b.Add all the working hours(working hours is the column with index 6) of 'senior_citizens' and store it in a variable called 'working_hours_sum'"
   ]
  },
  {
   "cell_type": "code",
   "execution_count": null,
   "metadata": {
    "colab": {
     "base_uri": "https://localhost:8080/"
    },
    "id": "fYZTR7EMgupn",
    "outputId": "4e99e074-fe66-4e70-d57a-5682d47e6c47"
   },
   "outputs": [
    {
     "data": {
      "text/plain": [
       "1917.0"
      ]
     },
     "execution_count": 28,
     "metadata": {},
     "output_type": "execute_result"
    }
   ],
   "source": [
    "np.sum(senior_citizens[:,6])"
   ]
  },
  {
   "cell_type": "markdown",
   "metadata": {
    "id": "l4h6_8DfBD9x"
   },
   "source": [
    "c.Find the length of 'senior_citizens' and store it in a variable called 'senior_citizens_len'"
   ]
  },
  {
   "cell_type": "code",
   "execution_count": null,
   "metadata": {
    "colab": {
     "base_uri": "https://localhost:8080/"
    },
    "id": "pPExiV83gwaC",
    "outputId": "2ebe57cc-5297-44fb-a41e-eda613d623b8"
   },
   "outputs": [
    {
     "data": {
      "text/plain": [
       "61"
      ]
     },
     "execution_count": 29,
     "metadata": {},
     "output_type": "execute_result"
    }
   ],
   "source": [
    "len(senior_citizens)"
   ]
  },
  {
   "cell_type": "markdown",
   "metadata": {
    "id": "-6mWgLiXBgAW"
   },
   "source": [
    "d. Finally find the average working hours of the senior citizens by dividing 'working_hours_sum' by 'senior_citizens_len' and store it in a variable called 'avg_working hours'."
   ]
  },
  {
   "cell_type": "code",
   "execution_count": null,
   "metadata": {
    "colab": {
     "base_uri": "https://localhost:8080/"
    },
    "id": "AOwajHabgy29",
    "outputId": "b87d94aa-c93a-432f-b7f1-fc5a6becaf93"
   },
   "outputs": [
    {
     "name": "stdout",
     "output_type": "stream",
     "text": [
      "31.42622950819672\n"
     ]
    }
   ],
   "source": [
    "avg_working_hours=np.sum(senior_citizens[:,6])/len(senior_citizens)"
   ]
  },
  {
   "cell_type": "markdown",
   "metadata": {
    "id": "VS382pv_CY1Q"
   },
   "source": [
    "e. Print 'avg_working_hours' and see if the govt. policy is followed."
   ]
  },
  {
   "cell_type": "code",
   "execution_count": null,
   "metadata": {
    "colab": {
     "base_uri": "https://localhost:8080/"
    },
    "id": "NatAJ4JBgzr4",
    "outputId": "0cb1f883-c6fa-4bdd-ba0b-8d0025f991fd"
   },
   "outputs": [
    {
     "name": "stdout",
     "output_type": "stream",
     "text": [
      "31.42622950819672\n"
     ]
    }
   ],
   "source": [
    "print(avg_working_hours)"
   ]
  },
  {
   "cell_type": "markdown",
   "metadata": {
    "id": "KRGhpDBKEIa-"
   },
   "source": [
    "# Step 6: Let's check that higher educated people have better pay in general."
   ]
  },
  {
   "cell_type": "markdown",
   "metadata": {
    "id": "-5rc9FarELwP"
   },
   "source": [
    "Create two new subset arrays called 'high' and 'low' by filtering 'census' according to education-num>10 and education-num<=10 (education-num is the column with index 1) respectively.\n",
    "\n"
   ]
  },
  {
   "cell_type": "code",
   "execution_count": null,
   "metadata": {
    "id": "GVA3Dgp5g2Ui"
   },
   "outputs": [],
   "source": [
    "high=data[data[:,1]>10]\n",
    "low=data[data[:,1]<=10]"
   ]
  },
  {
   "cell_type": "markdown",
   "metadata": {
    "id": "I4MwXFEbFEjV"
   },
   "source": [
    "taFind the mean of income column(income is the column with index 7) of 'high' array and store it in 'avg_pay_high'. Do the same for 'low' array and store it's mean in 'avg_pay_low'."
   ]
  },
  {
   "cell_type": "code",
   "execution_count": null,
   "metadata": {
    "id": "aaHfrQd1FItV"
   },
   "outputs": [],
   "source": [
    "avg_pay_high=np.mean(high[:,7])\n",
    "avg_pay_low=np.mean(low[:,7])"
   ]
  },
  {
   "cell_type": "code",
   "execution_count": null,
   "metadata": {
    "colab": {
     "base_uri": "https://localhost:8080/"
    },
    "id": "W4pJ8mhvHjlL",
    "outputId": "a25f1e17-6eb2-4616-8e1e-6ce809a21140"
   },
   "outputs": [
    {
     "name": "stdout",
     "output_type": "stream",
     "text": [
      "0.42813455657492355\n",
      "0.13670133729569092\n"
     ]
    }
   ],
   "source": [
    "print(avg_pay_high)\n",
    "print(avg_pay_low)"
   ]
  },
  {
   "cell_type": "code",
   "execution_count": null,
   "metadata": {
    "id": "fuiIIq9qHmgr"
   },
   "outputs": [],
   "source": []
  }
 ],
 "metadata": {
  "colab": {
   "provenance": []
  },
  "kernelspec": {
   "display_name": "Python 3 (ipykernel)",
   "language": "python",
   "name": "python3"
  },
  "language_info": {
   "codemirror_mode": {
    "name": "ipython",
    "version": 3
   },
   "file_extension": ".py",
   "mimetype": "text/x-python",
   "name": "python",
   "nbconvert_exporter": "python",
   "pygments_lexer": "ipython3",
   "version": "3.11.7"
  }
 },
 "nbformat": 4,
 "nbformat_minor": 4
}
